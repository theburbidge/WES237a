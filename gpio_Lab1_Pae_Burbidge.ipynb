{
 "cells": [
  {
   "cell_type": "markdown",
   "metadata": {},
   "source": [
    "# Lab work\n",
    "Use the code from the second cell as a template and write a code to use two pins (0 and 1) for send and two pins (2 and 3) for receive. You should be able to send 2bits (0~3) over GPIO. You'll need to hardwire from the send pins to the receive pins."
   ]
  },
  {
   "cell_type": "code",
   "execution_count": 15,
   "metadata": {},
   "outputs": [],
   "source": [
    "from pynq.overlays.base import BaseOverlay\n",
    "import time\n",
    "from datetime import datetime\n",
    "base = BaseOverlay(\"base.bit\")"
   ]
  },
  {
   "cell_type": "code",
   "execution_count": 18,
   "metadata": {},
   "outputs": [],
   "source": [
    "%%microblaze base.PMODB\n",
    "\n",
    "#include \"gpio.h\"\n",
    "#include \"pyprintf.h\"\n",
    "\n",
    "//Function to turn on/off pin_0 of PMODB\n",
    "void write_gpio_0(unsigned int pin_0, unsigned int val_0){\n",
    "    if (val_0 > 1){\n",
    "        pyprintf(\"pin value must be 0 or 1\");\n",
    "    }\n",
    "    gpio pin_out_0 = gpio_open(pin_0);\n",
    "    gpio_set_direction(pin_out_0, GPIO_OUT);\n",
    "    gpio_write(pin_out_0, val_0);\n",
    "}\n",
    "//Function to turn on/off pin_1 of PMODB\n",
    "void write_gpio_1(unsigned int pin_1, unsigned int val_1){\n",
    "    if (val_1 > 1){\n",
    "        pyprintf(\"pin value must be 0 or 1\");\n",
    "    }\n",
    "    gpio pin_out_1 = gpio_open(pin_1);\n",
    "    gpio_set_direction(pin_out_1, GPIO_OUT);\n",
    "    gpio_write(pin_out_1, val_1);\n",
    "}\n",
    "\n",
    "//Function to read the value of a pin_2 of PMODB\n",
    "unsigned int read_gpio_2(unsigned int pin_2){\n",
    "    gpio pin_in_2 = gpio_open(pin_2);\n",
    "    gpio_set_direction(pin_in_2, GPIO_IN);\n",
    "    return gpio_read(pin_in_2);\n",
    "}\n",
    "//Function to read the value of a pin_3 of PMODB\n",
    "unsigned int read_gpio_3(unsigned int pin_3){\n",
    "    gpio pin_in_3 = gpio_open(pin_3);\n",
    "    gpio_set_direction(pin_in_3, GPIO_IN);\n",
    "    return gpio_read(pin_in_3);\n",
    "}"
   ]
  },
  {
   "cell_type": "code",
   "execution_count": 19,
   "metadata": {},
   "outputs": [
    {
     "data": {
      "text/plain": [
       "1"
      ]
     },
     "execution_count": 19,
     "metadata": {},
     "output_type": "execute_result"
    }
   ],
   "source": [
    "val_0 = 1\n",
    "val_1 = 1\n",
    "write_gpio_0(0, val_0)\n",
    "write_gpio_1(1, val_1)\n",
    "read_gpio_2(2)"
   ]
  },
  {
   "cell_type": "code",
   "execution_count": 20,
   "metadata": {},
   "outputs": [
    {
     "data": {
      "text/plain": [
       "1"
      ]
     },
     "execution_count": 20,
     "metadata": {},
     "output_type": "execute_result"
    }
   ],
   "source": [
    "read_gpio_3(3)"
   ]
  },
  {
   "cell_type": "code",
   "execution_count": null,
   "metadata": {},
   "outputs": [],
   "source": []
  }
 ],
 "metadata": {
  "kernelspec": {
   "display_name": "Python 3",
   "language": "python",
   "name": "python3"
  },
  "language_info": {
   "codemirror_mode": {
    "name": "ipython",
    "version": 3
   },
   "file_extension": ".py",
   "mimetype": "text/x-python",
   "name": "python",
   "nbconvert_exporter": "python",
   "pygments_lexer": "ipython3",
   "version": "3.6.5"
  }
 },
 "nbformat": 4,
 "nbformat_minor": 2
}
